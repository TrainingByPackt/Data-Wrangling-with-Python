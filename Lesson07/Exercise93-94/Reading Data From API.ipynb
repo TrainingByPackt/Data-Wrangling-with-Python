{
 "cells": [
  {
   "cell_type": "markdown",
   "metadata": {},
   "source": [
    "# Lesson 7: Advanced Web Scraping and Data Gathering\n",
    "## Topic 3: Reading data from an API\n",
    "This Notebook shows how to use a free API (no authorization or API key needed) to download some basic information about various countries around the world and put them in a DataFrame."
   ]
  },
  {
   "cell_type": "markdown",
   "metadata": {},
   "source": [
    "### Import libraries"
   ]
  },
  {
   "cell_type": "code",
   "execution_count": 2,
   "metadata": {},
   "outputs": [],
   "source": [
    "import urllib.request, urllib.parse\n",
    "from urllib.error import HTTPError,URLError\n",
    "import pandas as pd"
   ]
  },
  {
   "cell_type": "markdown",
   "metadata": {},
   "source": [
    "### Exercise 20: Define the base URL"
   ]
  },
  {
   "cell_type": "code",
   "execution_count": 3,
   "metadata": {},
   "outputs": [],
   "source": [
    "serviceurl = 'https://restcountries.eu/rest/v2/name/'"
   ]
  },
  {
   "cell_type": "markdown",
   "metadata": {},
   "source": [
    "### Exercise 21: Define a function to pull the country data from the API"
   ]
  },
  {
   "cell_type": "code",
   "execution_count": 4,
   "metadata": {},
   "outputs": [],
   "source": [
    "def get_country_data(country):\n",
    "    \"\"\"\n",
    "    Function to get data about a country from \"https://restcountries.eu\" API\n",
    "    \"\"\"\n",
    "    country_name = str(country)\n",
    "    url = serviceurl + country_name\n",
    "    \n",
    "    try: \n",
    "        uh = urllib.request.urlopen(url)\n",
    "    except HTTPError as e:\n",
    "        print(\"Sorry! Could not retrieve anything on {}\".format(country_name))\n",
    "        return None\n",
    "    except URLError as e:\n",
    "        print('Failed to reach a server.')\n",
    "        print('Reason: ', e.reason)\n",
    "        return None\n",
    "    else:\n",
    "        data = uh.read().decode()\n",
    "        print(\"Retrieved data on {}. Total {} characters read.\".format(country_name,len(data)))\n",
    "        return data"
   ]
  },
  {
   "cell_type": "markdown",
   "metadata": {},
   "source": [
    "### Exercise 22: Test the function by passing a correct and an incorrect argument"
   ]
  },
  {
   "cell_type": "code",
   "execution_count": 5,
   "metadata": {},
   "outputs": [],
   "source": [
    "country_name = 'Switzerland'"
   ]
  },
  {
   "cell_type": "code",
   "execution_count": 6,
   "metadata": {},
   "outputs": [
    {
     "name": "stdout",
     "output_type": "stream",
     "text": [
      "Retrieved data on Switzerland. Total 1090 characters read.\n"
     ]
    }
   ],
   "source": [
    "data=get_country_data(country_name)"
   ]
  },
  {
   "cell_type": "code",
   "execution_count": 6,
   "metadata": {},
   "outputs": [],
   "source": [
    "country_name1 = 'Switzerland1'"
   ]
  },
  {
   "cell_type": "code",
   "execution_count": 7,
   "metadata": {},
   "outputs": [
    {
     "name": "stdout",
     "output_type": "stream",
     "text": [
      "Sorry! Could not retrive anything on Switzerland1\n"
     ]
    }
   ],
   "source": [
    "data1=get_country_data(country_name1)"
   ]
  },
  {
   "cell_type": "markdown",
   "metadata": {},
   "source": [
    "### Exercise 23: Use the built-in `JSON` library to read and examine the data properly"
   ]
  },
  {
   "cell_type": "code",
   "execution_count": 11,
   "metadata": {},
   "outputs": [],
   "source": [
    "import json"
   ]
  },
  {
   "cell_type": "code",
   "execution_count": 12,
   "metadata": {},
   "outputs": [],
   "source": [
    "# Load from string 'data'\n",
    "x=json.loads(data)"
   ]
  },
  {
   "cell_type": "code",
   "execution_count": 13,
   "metadata": {},
   "outputs": [],
   "source": [
    "# Load the only element\n",
    "y=x[0]"
   ]
  },
  {
   "cell_type": "code",
   "execution_count": 14,
   "metadata": {},
   "outputs": [
    {
     "data": {
      "text/plain": [
       "dict"
      ]
     },
     "execution_count": 14,
     "metadata": {},
     "output_type": "execute_result"
    }
   ],
   "source": [
    "type(y)"
   ]
  },
  {
   "cell_type": "code",
   "execution_count": 15,
   "metadata": {},
   "outputs": [
    {
     "data": {
      "text/plain": [
       "dict_keys(['name', 'topLevelDomain', 'alpha2Code', 'alpha3Code', 'callingCodes', 'capital', 'altSpellings', 'region', 'subregion', 'population', 'latlng', 'demonym', 'area', 'gini', 'timezones', 'borders', 'nativeName', 'numericCode', 'currencies', 'languages', 'translations', 'flag', 'regionalBlocs', 'cioc'])"
      ]
     },
     "execution_count": 15,
     "metadata": {},
     "output_type": "execute_result"
    }
   ],
   "source": [
    "y.keys()"
   ]
  },
  {
   "cell_type": "markdown",
   "metadata": {},
   "source": [
    "### Exercise 24: Can you print all the data elements one by one?"
   ]
  },
  {
   "cell_type": "code",
   "execution_count": 16,
   "metadata": {},
   "outputs": [
    {
     "name": "stdout",
     "output_type": "stream",
     "text": [
      "name: Switzerland\n",
      "topLevelDomain: ['.ch']\n",
      "alpha2Code: CH\n",
      "alpha3Code: CHE\n",
      "callingCodes: ['41']\n",
      "capital: Bern\n",
      "altSpellings: ['CH', 'Swiss Confederation', 'Schweiz', 'Suisse', 'Svizzera', 'Svizra']\n",
      "region: Europe\n",
      "subregion: Western Europe\n",
      "population: 8341600\n",
      "latlng: [47.0, 8.0]\n",
      "demonym: Swiss\n",
      "area: 41284.0\n",
      "gini: 33.7\n",
      "timezones: ['UTC+01:00']\n",
      "borders: ['AUT', 'FRA', 'ITA', 'LIE', 'DEU']\n",
      "nativeName: Schweiz\n",
      "numericCode: 756\n",
      "currencies: [{'code': 'CHF', 'name': 'Swiss franc', 'symbol': 'Fr'}]\n",
      "languages: [{'iso639_1': 'de', 'iso639_2': 'deu', 'name': 'German', 'nativeName': 'Deutsch'}, {'iso639_1': 'fr', 'iso639_2': 'fra', 'name': 'French', 'nativeName': 'français'}, {'iso639_1': 'it', 'iso639_2': 'ita', 'name': 'Italian', 'nativeName': 'Italiano'}]\n",
      "translations: {'de': 'Schweiz', 'es': 'Suiza', 'fr': 'Suisse', 'ja': 'スイス', 'it': 'Svizzera', 'br': 'Suíça', 'pt': 'Suíça', 'nl': 'Zwitserland', 'hr': 'Švicarska', 'fa': 'سوئیس'}\n",
      "flag: https://restcountries.eu/data/che.svg\n",
      "regionalBlocs: [{'acronym': 'EFTA', 'name': 'European Free Trade Association', 'otherAcronyms': [], 'otherNames': []}]\n",
      "cioc: SUI\n"
     ]
    }
   ],
   "source": [
    "for k,v in y.items():\n",
    "    print(\"{}: {}\".format(k,v))"
   ]
  },
  {
   "cell_type": "markdown",
   "metadata": {},
   "source": [
    "### Exercise 25: The dictionary values are not of the same type - print all the languages spoken"
   ]
  },
  {
   "cell_type": "code",
   "execution_count": 17,
   "metadata": {},
   "outputs": [
    {
     "name": "stdout",
     "output_type": "stream",
     "text": [
      "German\n",
      "French\n",
      "Italian\n"
     ]
    }
   ],
   "source": [
    "for lang in y['languages']:\n",
    "    print(lang['name'])"
   ]
  },
  {
   "cell_type": "markdown",
   "metadata": {},
   "source": [
    "### Exercise 26: Write a function which can take a list of countries and return a DataFrame containing key info\n",
    "* Capital\n",
    "* Region\n",
    "* Sub-region\n",
    "* Population\n",
    "* lattitude/longitude\n",
    "* Area\n",
    "* Gini index\n",
    "* Timezones\n",
    "* Currencies\n",
    "* Languages"
   ]
  },
  {
   "cell_type": "code",
   "execution_count": 15,
   "metadata": {},
   "outputs": [],
   "source": [
    "import pandas as pd\n",
    "import json\n",
    "def build_country_database(list_country):\n",
    "    \"\"\"\n",
    "    Takes a list of country names.\n",
    "    Output a DataFrame with key information about those countries.\n",
    "    \"\"\"\n",
    "    # Define an empty dictionary with keys\n",
    "    country_dict={'Country':[],'Capital':[],'Region':[],'Sub-region':[],'Population':[],\n",
    "                  'Lattitude':[],'Longitude':[],'Area':[],'Gini':[],'Timezones':[],\n",
    "                  'Currencies':[],'Languages':[]}\n",
    "    \n",
    "    for c in list_country:\n",
    "        data = get_country_data(c)\n",
    "        if data!=None:\n",
    "            x = json.loads(data)\n",
    "            y=x[0]\n",
    "            country_dict['Country'].append(y['name'])\n",
    "            country_dict['Capital'].append(y['capital'])\n",
    "            country_dict['Region'].append(y['region'])\n",
    "            country_dict['Sub-Region'].append(y['subregion'])\n",
    "            country_dict['Population'].append(y['population'])\n",
    "            country_dict['Lattitude'].append(y['latlng'][0])\n",
    "            country_dict['Longitude'].append(y['latlng'][1])\n",
    "            country_dict['Area'].append(y['area'])\n",
    "            country_dict['Gini'].append(y['gini'])\n",
    "            # Note the code to handle possibility of multiple timezones as a list\n",
    "            if len(y['timezones'])>1:\n",
    "                country_dict['Timezones'].append(','.join(y['timezones']))\n",
    "            else:\n",
    "                country_dict['Timezones'].append(y['timezones'][0])\n",
    "            # Note the code to handle possibility of multiple currencies as dictionaries\n",
    "            if len(y['currencies'])>1:\n",
    "                lst_currencies = []\n",
    "                for i in y['currencies']:\n",
    "                    lst_currencies.append(i['name'])\n",
    "                country_dict['Currencies'].append(','.join(lst_currencies))\n",
    "            else:\n",
    "                country_dict['Currencies'].append(y['currencies'][0]['name'])\n",
    "            # Note the code to handle possibility of multiple languages as dictionaries\n",
    "            if len(y['languages'])>1:\n",
    "                lst_languages = []\n",
    "                for i in y['languages']:\n",
    "                    lst_languages.append(i['name'])\n",
    "                country_dict['Languages'].append(','.join(lst_languages))\n",
    "            else:\n",
    "                country_dict['Languages'].append(y['languages'][0]['name'])\n",
    "    \n",
    "    # Return as a Pandas DataFrame\n",
    "    return pd.DataFrame(country_dict)"
   ]
  },
  {
   "cell_type": "markdown",
   "metadata": {},
   "source": [
    "### Exercise 27: Test the function by building a small database of countries' info. Include an incorrect name too."
   ]
  },
  {
   "cell_type": "code",
   "execution_count": 16,
   "metadata": {},
   "outputs": [
    {
     "name": "stdout",
     "output_type": "stream",
     "text": [
      "Retrieved data on Nigeria. Total 1004 characters read.\n",
      "Retrieved data on Switzerland. Total 1090 characters read.\n",
      "Retrieved data on France. Total 1047 characters read.\n",
      "Sorry! Could not retrive anything on Turmeric\n",
      "Retrieved data on Russia. Total 1120 characters read.\n",
      "Retrieved data on Kenya. Total 1052 characters read.\n",
      "Retrieved data on Singapore. Total 1223 characters read.\n"
     ]
    }
   ],
   "source": [
    "df1=build_country_database(['Nigeria','Switzerland','France',\n",
    "                            'Turmeric','Russia','Kenya','Singapore'])"
   ]
  },
  {
   "cell_type": "code",
   "execution_count": 17,
   "metadata": {},
   "outputs": [
    {
     "data": {
      "text/html": [
       "<div>\n",
       "<style scoped>\n",
       "    .dataframe tbody tr th:only-of-type {\n",
       "        vertical-align: middle;\n",
       "    }\n",
       "\n",
       "    .dataframe tbody tr th {\n",
       "        vertical-align: top;\n",
       "    }\n",
       "\n",
       "    .dataframe thead th {\n",
       "        text-align: right;\n",
       "    }\n",
       "</style>\n",
       "<table border=\"1\" class=\"dataframe\">\n",
       "  <thead>\n",
       "    <tr style=\"text-align: right;\">\n",
       "      <th></th>\n",
       "      <th>Area</th>\n",
       "      <th>Capital</th>\n",
       "      <th>Country</th>\n",
       "      <th>Currencies</th>\n",
       "      <th>Gini</th>\n",
       "      <th>Languages</th>\n",
       "      <th>Lattitude</th>\n",
       "      <th>Longitude</th>\n",
       "      <th>Population</th>\n",
       "      <th>Region</th>\n",
       "      <th>Sub-region</th>\n",
       "      <th>Timezones</th>\n",
       "    </tr>\n",
       "  </thead>\n",
       "  <tbody>\n",
       "    <tr>\n",
       "      <th>0</th>\n",
       "      <td>923768.0</td>\n",
       "      <td>Abuja</td>\n",
       "      <td>Nigeria</td>\n",
       "      <td>Nigerian naira</td>\n",
       "      <td>48.8</td>\n",
       "      <td>English</td>\n",
       "      <td>10.000000</td>\n",
       "      <td>8.0</td>\n",
       "      <td>186988000</td>\n",
       "      <td>Africa</td>\n",
       "      <td>Western Africa</td>\n",
       "      <td>UTC+01:00</td>\n",
       "    </tr>\n",
       "    <tr>\n",
       "      <th>1</th>\n",
       "      <td>41284.0</td>\n",
       "      <td>Bern</td>\n",
       "      <td>Switzerland</td>\n",
       "      <td>Swiss franc</td>\n",
       "      <td>33.7</td>\n",
       "      <td>German,French,Italian</td>\n",
       "      <td>47.000000</td>\n",
       "      <td>8.0</td>\n",
       "      <td>8341600</td>\n",
       "      <td>Europe</td>\n",
       "      <td>Western Europe</td>\n",
       "      <td>UTC+01:00</td>\n",
       "    </tr>\n",
       "    <tr>\n",
       "      <th>2</th>\n",
       "      <td>640679.0</td>\n",
       "      <td>Paris</td>\n",
       "      <td>France</td>\n",
       "      <td>Euro</td>\n",
       "      <td>32.7</td>\n",
       "      <td>French</td>\n",
       "      <td>46.000000</td>\n",
       "      <td>2.0</td>\n",
       "      <td>66710000</td>\n",
       "      <td>Europe</td>\n",
       "      <td>Western Europe</td>\n",
       "      <td>UTC-10:00,UTC-09:30,UTC-09:00,UTC-08:00,UTC-04...</td>\n",
       "    </tr>\n",
       "    <tr>\n",
       "      <th>3</th>\n",
       "      <td>17124442.0</td>\n",
       "      <td>Moscow</td>\n",
       "      <td>Russian Federation</td>\n",
       "      <td>Russian ruble</td>\n",
       "      <td>40.1</td>\n",
       "      <td>Russian</td>\n",
       "      <td>60.000000</td>\n",
       "      <td>100.0</td>\n",
       "      <td>146599183</td>\n",
       "      <td>Europe</td>\n",
       "      <td>Eastern Europe</td>\n",
       "      <td>UTC+03:00,UTC+04:00,UTC+06:00,UTC+07:00,UTC+08...</td>\n",
       "    </tr>\n",
       "    <tr>\n",
       "      <th>4</th>\n",
       "      <td>580367.0</td>\n",
       "      <td>Nairobi</td>\n",
       "      <td>Kenya</td>\n",
       "      <td>Kenyan shilling</td>\n",
       "      <td>47.7</td>\n",
       "      <td>English,Swahili</td>\n",
       "      <td>1.000000</td>\n",
       "      <td>38.0</td>\n",
       "      <td>47251000</td>\n",
       "      <td>Africa</td>\n",
       "      <td>Eastern Africa</td>\n",
       "      <td>UTC+03:00</td>\n",
       "    </tr>\n",
       "    <tr>\n",
       "      <th>5</th>\n",
       "      <td>710.0</td>\n",
       "      <td>Singapore</td>\n",
       "      <td>Singapore</td>\n",
       "      <td>Brunei dollar,Singapore dollar</td>\n",
       "      <td>48.1</td>\n",
       "      <td>English,Malay,Tamil,Chinese</td>\n",
       "      <td>1.366667</td>\n",
       "      <td>103.8</td>\n",
       "      <td>5535000</td>\n",
       "      <td>Asia</td>\n",
       "      <td>South-Eastern Asia</td>\n",
       "      <td>UTC+08:00</td>\n",
       "    </tr>\n",
       "  </tbody>\n",
       "</table>\n",
       "</div>"
      ],
      "text/plain": [
       "         Area    Capital             Country                      Currencies  \\\n",
       "0    923768.0      Abuja             Nigeria                  Nigerian naira   \n",
       "1     41284.0       Bern         Switzerland                     Swiss franc   \n",
       "2    640679.0      Paris              France                            Euro   \n",
       "3  17124442.0     Moscow  Russian Federation                   Russian ruble   \n",
       "4    580367.0    Nairobi               Kenya                 Kenyan shilling   \n",
       "5       710.0  Singapore           Singapore  Brunei dollar,Singapore dollar   \n",
       "\n",
       "   Gini                    Languages  Lattitude  Longitude  Population  \\\n",
       "0  48.8                      English  10.000000        8.0   186988000   \n",
       "1  33.7        German,French,Italian  47.000000        8.0     8341600   \n",
       "2  32.7                       French  46.000000        2.0    66710000   \n",
       "3  40.1                      Russian  60.000000      100.0   146599183   \n",
       "4  47.7              English,Swahili   1.000000       38.0    47251000   \n",
       "5  48.1  English,Malay,Tamil,Chinese   1.366667      103.8     5535000   \n",
       "\n",
       "   Region          Sub-region  \\\n",
       "0  Africa      Western Africa   \n",
       "1  Europe      Western Europe   \n",
       "2  Europe      Western Europe   \n",
       "3  Europe      Eastern Europe   \n",
       "4  Africa      Eastern Africa   \n",
       "5    Asia  South-Eastern Asia   \n",
       "\n",
       "                                           Timezones  \n",
       "0                                          UTC+01:00  \n",
       "1                                          UTC+01:00  \n",
       "2  UTC-10:00,UTC-09:30,UTC-09:00,UTC-08:00,UTC-04...  \n",
       "3  UTC+03:00,UTC+04:00,UTC+06:00,UTC+07:00,UTC+08...  \n",
       "4                                          UTC+03:00  \n",
       "5                                          UTC+08:00  "
      ]
     },
     "execution_count": 17,
     "metadata": {},
     "output_type": "execute_result"
    }
   ],
   "source": [
    "df1"
   ]
  }
 ],
 "metadata": {
  "kernelspec": {
   "display_name": "Python 3",
   "language": "python",
   "name": "python3"
  },
  "language_info": {
   "codemirror_mode": {
    "name": "ipython",
    "version": 3
   },
   "file_extension": ".py",
   "mimetype": "text/x-python",
   "name": "python",
   "nbconvert_exporter": "python",
   "pygments_lexer": "ipython3",
   "version": "3.6.2"
  },
  "latex_envs": {
   "LaTeX_envs_menu_present": true,
   "autoclose": false,
   "autocomplete": true,
   "bibliofile": "biblio.bib",
   "cite_by": "apalike",
   "current_citInitial": 1,
   "eqLabelWithNumbers": true,
   "eqNumInitial": 1,
   "hotkeys": {
    "equation": "Ctrl-E",
    "itemize": "Ctrl-I"
   },
   "labels_anchors": false,
   "latex_user_defs": false,
   "report_style_numbering": false,
   "user_envs_cfg": false
  }
 },
 "nbformat": 4,
 "nbformat_minor": 2
}
